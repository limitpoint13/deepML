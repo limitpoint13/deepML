{
 "cells": [
  {
   "cell_type": "code",
   "execution_count": 1,
   "id": "checked-compensation",
   "metadata": {},
   "outputs": [],
   "source": [
    "import matplotlib.pyplot as plt\n",
    "from tensorflow.keras.datasets import mnist\n",
    "import numpy as np"
   ]
  },
  {
   "cell_type": "code",
   "execution_count": 2,
   "id": "minimal-person",
   "metadata": {},
   "outputs": [],
   "source": [
    "(x_train, y_train), (x_test, y_test) = mnist.load_data()"
   ]
  },
  {
   "cell_type": "code",
   "execution_count": 3,
   "id": "alert-addition",
   "metadata": {},
   "outputs": [],
   "source": [
    "#z_train: flattened version of x_train\n",
    "z_train = [list(np.reshape(x_train_, (np.product(x_train_.shape)))) + [y_train_] for x_train_,y_train_ in zip(x_train, y_train)]"
   ]
  },
  {
   "cell_type": "code",
   "execution_count": 4,
   "id": "central-seminar",
   "metadata": {},
   "outputs": [],
   "source": [
    "#z_test: flattened version of x_test\n",
    "z_test = [list(np.reshape(x_test_, (np.product(x_test_.shape)))) + [y_test_] for x_test_,y_test_ in zip(x_test, y_test)]"
   ]
  },
  {
   "cell_type": "code",
   "execution_count": 5,
   "id": "substantial-proof",
   "metadata": {},
   "outputs": [],
   "source": [
    "%matplotlib inline"
   ]
  },
  {
   "cell_type": "code",
   "execution_count": 6,
   "id": "architectural-ecology",
   "metadata": {},
   "outputs": [
    {
     "name": "stdout",
     "output_type": "stream",
     "text": [
      "4\n"
     ]
    },
    {
     "data": {
      "image/png": "[encoded data removed]",
      "text/plain": [
       "<Figure size 432x288 with 1 Axes>"
      ]
     },
     "metadata": {
      "needs_background": "light"
     },
     "output_type": "display_data"
    }
   ],
   "source": [
    "image_index = 2\n",
    "print(y_train[image_index])\n",
    "plt.imshow(x_train[image_index], cmap='Greys')\n",
    "plt.show()"
   ]
  },
  {
   "cell_type": "code",
   "execution_count": 7,
   "id": "pressed-compatibility",
   "metadata": {},
   "outputs": [],
   "source": [
    "#Dooheon: We may change the type of questions. In that case, func:'finde_best_split' should be changed as well.\n",
    "\n",
    "class Question:\n",
    "    \"\"\"A Question is used to partition a dataset.\n",
    "    This class just records a 'pixcel index' (index in [0,28^2-1]) and 'threshold'. \n",
    "    The 'test' method is used to compare the threshold of the pixel's value in the sample \n",
    "    to the threshold stored in the question. \n",
    "    \"\"\"\n",
    "\n",
    "    def __init__(self, index_pixcel, threshold):\n",
    "        self.index_pixcel = index_pixcel\n",
    "        self.threshold = threshold\n",
    "\n",
    "    def test(self, sample):\n",
    "        # sample: list-like, size 28^2 or 28^2+1 (when label is appended)\n",
    "        val = sample[self.index_pixcel]\n",
    "        return val >= self.threshold\n",
    "        \n",
    "    def __repr__(self):\n",
    "        # This is just a helper method to print\n",
    "        # the question in a readable format.\n",
    "        return \"Is %s-th pixcel >= %s?\" % (self.index_pixcel, str(self.threshold))"
   ]
  },
  {
   "cell_type": "code",
   "execution_count": 8,
   "id": "duplicate-platform",
   "metadata": {},
   "outputs": [],
   "source": [
    "def partition(samples, question):\n",
    "    \"\"\"\n",
    "    Partitions samples.\n",
    "    For each sample in the samples, check if it passes the question. If\n",
    "    so, add it to 'true samples', otherwise, add it to 'false samples'.\n",
    "    \"\"\"\n",
    "    true_samples, false_samples = [], []\n",
    "    for sample in samples:\n",
    "        if question.test(sample):\n",
    "            true_samples.append(sample)\n",
    "        else:\n",
    "            false_samples.append(sample)\n",
    "    return true_samples, false_samples"
   ]
  },
  {
   "cell_type": "code",
   "execution_count": 9,
   "id": "headed-hypothesis",
   "metadata": {},
   "outputs": [],
   "source": [
    "def distribution(samples):\n",
    "    \"\"\"returns the distribution (counting) of the number of each label in the samples.\"\"\"\n",
    "    distribution = {}  # a dictionary of label -> count.\n",
    "    for sample in samples:\n",
    "        # in our dataset format, the label is always the last column\n",
    "        label = sample[-1]\n",
    "        distribution.setdefault(str(label), 0)\n",
    "        distribution[str(label)] += 1\n",
    "    return distribution"
   ]
  },
  {
   "cell_type": "code",
   "execution_count": 10,
   "id": "valued-exposure",
   "metadata": {},
   "outputs": [],
   "source": [
    "def gini_index(samples):\n",
    "    dist = distribution(samples)\n",
    "    gini = -1.0\n",
    "    for lbl in dist:\n",
    "        prob_of_lbl = dist[lbl] / float(len(samples))\n",
    "        gini -= prob_of_lbl**2\n",
    "    return gini"
   ]
  },
  {
   "cell_type": "code",
   "execution_count": 11,
   "id": "hungry-order",
   "metadata": {},
   "outputs": [],
   "source": [
    "def info_gain(left, right, current_uncertainty):\n",
    "    \"\"\"Information Gain.\n",
    "    The uncertainty of the starting node, minus the weighted impurity of\n",
    "    two child nodes.\n",
    "    \"\"\"\n",
    "    p = float(len(left)) / (len(left) + len(right))\n",
    "    information_gain = current_uncertainty - p * gini_index(left) - (1 - p) * gini_index(right)\n",
    "    return information_gain"
   ]
  },
  {
   "cell_type": "code",
   "execution_count": 12,
   "id": "expressed-costs",
   "metadata": {},
   "outputs": [],
   "source": [
    "def find_best_question(samples):\n",
    "    \"\"\"\n",
    "    Find the best question to ask among a selected set of questions\n",
    "    and calculate the information gain.\n",
    "    \"\"\"\n",
    "    best_gain = 0  # keep track of the best information gain\n",
    "    best_question = None  # keep track of the feature / value that produced it\n",
    "    current_uncertainty = gini_index(samples)\n",
    "    n_features = len(samples[0]) - 1  # number of columns\n",
    "\n",
    "    for col in range(n_features):  # for each feature\n",
    "        values = sorted(set([row[col] for row in samples]))\n",
    "        values_used = []\n",
    "        prev_val = -1\n",
    "        for val in values:  # for each value\n",
    "            if val < prev_val + 5:\n",
    "                continue # The resolution of the question is 5\n",
    "            prev_val = val\n",
    "            question = Question(col, val)\n",
    "\n",
    "            # try questionting the dataset\n",
    "            true_samples, false_samples = partition(samples, question)\n",
    "\n",
    "            # Skip this question if it doesn't divide the\n",
    "            # dataset.\n",
    "            if len(true_samples) == 0 or len(false_samples) == 0:\n",
    "                continue\n",
    "\n",
    "            # Calculate the information gain from this question\n",
    "            gain = info_gain(true_samples, false_samples, current_uncertainty)\n",
    "\n",
    "            # You actually can use '>' instead of '>=' here\n",
    "            # but I wanted the tree to look a certain way for our\n",
    "            # toy dataset.\n",
    "            if gain >= best_gain:\n",
    "                best_gain, best_question = gain, question\n",
    "        \n",
    "    return best_gain, best_question"
   ]
  },
  {
   "cell_type": "code",
   "execution_count": 13,
   "id": "dried-outside",
   "metadata": {},
   "outputs": [],
   "source": [
    "class Leaf:\n",
    "    \"\"\"A Leaf node classifies data.\n",
    "    This holds a dictionary of class (e.g., \"Apple\") -> number of times\n",
    "    it appears in the samples from the training data that reach this leaf.\n",
    "    \"\"\"\n",
    "    def __init__(self, samples):\n",
    "        self.predictions = distribution(samples)\n",
    "    def __repr__(self):\n",
    "        output = ''\n",
    "        for lbl in self.predictions:\n",
    "            output += '%s: %s\\n'%(lbl, self.predictions[lbl])\n",
    "        return output        "
   ]
  },
  {
   "cell_type": "code",
   "execution_count": 14,
   "id": "metallic-squad",
   "metadata": {},
   "outputs": [],
   "source": [
    "class Decision_Node:\n",
    "    \"\"\"A Decision Node asks a question.\n",
    "    This holds a reference to the question, and to the two child nodes.\n",
    "    \"\"\"\n",
    "    def __init__(self,\n",
    "                 question,\n",
    "                 true_node,\n",
    "                 false_node):\n",
    "        self.question = question\n",
    "        self.true_node = true_node\n",
    "        self.false_node = false_node"
   ]
  },
  {
   "cell_type": "code",
   "execution_count": 15,
   "id": "swedish-wilderness",
   "metadata": {},
   "outputs": [],
   "source": [
    "def build_tree(samples_train):\n",
    "    \"\"\"\n",
    "    Builds the tree. Returns the top node, which can be a class:'Leaf' or class:'Decision_Node'\n",
    "    It is the key in recursive definition to believe that the function already exists. \n",
    "    \"\"\"\n",
    "    gain, question = find_best_question(samples_train)\n",
    "    if gain == 0:\n",
    "        return Leaf(samples_train)\n",
    "    true_samples_train, false_samples_train = partition(samples_train, question)\n",
    "    true_branch = build_tree(true_samples_train)\n",
    "    false_branch = build_tree(false_samples_train)\n",
    "    return Decision_Node(question, true_branch, false_branch)"
   ]
  },
  {
   "cell_type": "code",
   "execution_count": 16,
   "id": "sized-colombia",
   "metadata": {},
   "outputs": [],
   "source": [
    "def print_tree(node, spacing=\"\"):\n",
    "    \"Again, recursive definition\"\n",
    "    # Base case: we've reached a leaf\n",
    "    if isinstance(node, Leaf):\n",
    "        print(spacing + \"Predict\", node.predictions)\n",
    "        return\n",
    "\n",
    "    # Print the question at this node\n",
    "    print (spacing + str(node.question))\n",
    "\n",
    "    # Call this function recursively on the true node\n",
    "    print (spacing + '--> True:')\n",
    "    print_tree(node.true_node, spacing + \"  \")\n",
    "\n",
    "    # Call this function recursively on the false node\n",
    "    print (spacing + '--> False:')\n",
    "    print_tree(node.false_node, spacing + \"  \")"
   ]
  },
  {
   "cell_type": "code",
   "execution_count": 32,
   "id": "trying-planet",
   "metadata": {},
   "outputs": [],
   "source": [
    "def classify(sample, tree):\n",
    "    \"\"\"Recursive definition\"\"\"\n",
    "    if isinstance(tree, Leaf):\n",
    "        #print(tree)\n",
    "        return tree.predictions\n",
    "    #print(tree.question)\n",
    "    if tree.question.test(sample):\n",
    "        #print('True')\n",
    "        return classify(sample, tree.true_node)\n",
    "    else:\n",
    "        #print('False')\n",
    "        return classify(sample, tree.false_node)"
   ]
  },
  {
   "cell_type": "code",
   "execution_count": 28,
   "id": "burning-trustee",
   "metadata": {},
   "outputs": [],
   "source": [
    "import pickle\n",
    "#Load the tree calibrated and saved before\n",
    "with open('./my_tree.pkl', 'rb') as f:\n",
    "    my_tree = pickle.load(f)"
   ]
  },
  {
   "cell_type": "code",
   "execution_count": 18,
   "id": "detected-memory",
   "metadata": {},
   "outputs": [
    {
     "name": "stdout",
     "output_type": "stream",
     "text": [
      "CPU times: user 6h 57min 22s, sys: 49.5 s, total: 6h 58min 11s\n",
      "Wall time: 6h 58min 21s\n"
     ]
    }
   ],
   "source": [
    "%%time\n",
    "######This took > 6 hours to me\n",
    "#my_tree = build_tree(z_train)\n",
    "\n",
    "#####Save calibrated tree as a pickle\n",
    "#with open('./my_tree.pkl', 'wb') as f:\n",
    "#    pickle.dump(my_tree, f)"
   ]
  },
  {
   "cell_type": "code",
   "execution_count": 34,
   "id": "automated-bermuda",
   "metadata": {},
   "outputs": [],
   "source": [
    "matches = []\n",
    "for index in range(len(z_test)):\n",
    "    prediction = classify(z_test[index], my_tree)\n",
    "    if str(z_test[index][-1]) not in prediction:\n",
    "        result = False\n",
    "    else:\n",
    "        result = True\n",
    "        for lbl in prediction:\n",
    "            result = result and prediction[str(z_test[index][-1])] >= prediction[lbl]\n",
    "    matches.append(result)    \n",
    "\n",
    "correct = matches.count(True)\n",
    "incorrect = matches.count(False)"
   ]
  },
  {
   "cell_type": "code",
   "execution_count": 36,
   "id": "furnished-proposal",
   "metadata": {},
   "outputs": [
    {
     "name": "stdout",
     "output_type": "stream",
     "text": [
      "correct 8765\n",
      "incorrect 1235\n"
     ]
    }
   ],
   "source": [
    "print('correct', correct)\n",
    "print('incorrect', incorrect)"
   ]
  },
  {
   "cell_type": "code",
   "execution_count": null,
   "id": "established-questionnaire",
   "metadata": {},
   "outputs": [],
   "source": []
  }
 ],
 "metadata": {
  "kernelspec": {
   "display_name": "Python 3",
   "language": "python",
   "name": "python3"
  },
  "language_info": {
   "codemirror_mode": {
    "name": "ipython",
    "version": 3
   },
   "file_extension": ".py",
   "mimetype": "text/x-python",
   "name": "python",
   "nbconvert_exporter": "python",
   "pygments_lexer": "ipython3",
   "version": "3.8.10"
  }
 },
 "nbformat": 4,
 "nbformat_minor": 5
}
